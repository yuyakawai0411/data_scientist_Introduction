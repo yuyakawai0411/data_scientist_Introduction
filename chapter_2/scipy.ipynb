{
 "cells": [
  {
   "cell_type": "code",
   "execution_count": 1,
   "id": "e4ffd01d-18eb-4a94-a806-06873cc19c8e",
   "metadata": {},
   "outputs": [],
   "source": [
    "import numpy as np\n",
    "import scipy as sp\n",
    "import scipy.linalg as linalg\n",
    "from scipy.optimize import minimize_scalar"
   ]
  },
  {
   "cell_type": "code",
   "execution_count": 2,
   "id": "11b55ac4-c7cf-4f13-92b7-a2cc41d12a48",
   "metadata": {},
   "outputs": [
    {
     "name": "stdout",
     "output_type": "stream",
     "text": [
      "-4.0\n"
     ]
    }
   ],
   "source": [
    "matrix = np.array([[1,-1,-1],[-1,1,-1], [-1,-1,1]])\n",
    "# 行列式\n",
    "print(linalg.det(matrix))"
   ]
  },
  {
   "cell_type": "code",
   "execution_count": 3,
   "id": "060e66b4-d134-4ef7-b092-00a194de2bc5",
   "metadata": {},
   "outputs": [
    {
     "name": "stdout",
     "output_type": "stream",
     "text": [
      "逆行列 [[ 0.  -0.5 -0.5]\n",
      " [-0.5 -0.  -0.5]\n",
      " [-0.5 -0.5  0. ]]\n",
      "単位行列 [[1. 0. 0.]\n",
      " [0. 1. 0.]\n",
      " [0. 0. 1.]]\n"
     ]
    }
   ],
   "source": [
    "print('逆行列', linalg.inv(matrix))\n",
    "print('単位行列', matrix.dot(linalg.inv(matrix)))"
   ]
  },
  {
   "cell_type": "markdown",
   "id": "83ab9625-7c37-4819-967b-9421df3b5747",
   "metadata": {},
   "source": [
    "**3つの固有値と固有ベクトルが見つかった**"
   ]
  },
  {
   "cell_type": "code",
   "execution_count": 6,
   "id": "7f95058e-affc-44d0-854f-719cc8aa4b01",
   "metadata": {},
   "outputs": [
    {
     "name": "stdout",
     "output_type": "stream",
     "text": [
      "固有値 [-1.+0.j  2.+0.j  2.+0.j]\n",
      "固有ベクトル [[ 0.57735027  0.81649658  0.40824829]\n",
      " [ 0.57735027 -0.40824829 -0.81649658]\n",
      " [ 0.57735027 -0.40824829  0.40824829]]\n"
     ]
    }
   ],
   "source": [
    "eig_value, eig_vector = linalg.eig(matrix)\n",
    "print('固有値', eig_value) \n",
    "print('固有ベクトル', eig_vector) "
   ]
  },
  {
   "cell_type": "code",
   "execution_count": 8,
   "id": "f3ddf02d-37ad-4fc6-91b1-cb00b3875e5a",
   "metadata": {},
   "outputs": [],
   "source": [
    "def my_fuction(x):\n",
    "    return (x**2 + 2*x + 1)"
   ]
  },
  {
   "cell_type": "code",
   "execution_count": 10,
   "id": "2e42fb8f-4fcd-4370-9894-ab65815eb6fd",
   "metadata": {},
   "outputs": [
    {
     "name": "stdout",
     "output_type": "stream",
     "text": [
      "-0.9999999852953906\n"
     ]
    }
   ],
   "source": [
    "from scipy.optimize import newton\n",
    "print(newton(my_fuction, 0))"
   ]
  },
  {
   "cell_type": "code",
   "execution_count": 12,
   "id": "3a3072b0-14b9-4ae6-b500-8a65699940fc",
   "metadata": {},
   "outputs": [
    {
     "name": "stdout",
     "output_type": "stream",
     "text": [
      " message: \n",
      "          Optimization terminated successfully;\n",
      "          The returned value satisfies the termination criteria\n",
      "          (using xtol = 1.48e-08 )\n",
      " success: True\n",
      "     fun: 0.0\n",
      "       x: -1.0000000000000002\n",
      "     nit: 4\n",
      "    nfev: 8\n"
     ]
    }
   ],
   "source": [
    "print(minimize_scalar(my_fuction, method='Brent'))"
   ]
  },
  {
   "cell_type": "markdown",
   "id": "4555f8df-e5de-4e59-8b8f-620c2c5f07dc",
   "metadata": {},
   "source": [
    "**練習問題**"
   ]
  },
  {
   "cell_type": "code",
   "execution_count": 14,
   "id": "0018cc7d-f708-418d-9b5d-ac025152b165",
   "metadata": {},
   "outputs": [
    {
     "name": "stdout",
     "output_type": "stream",
     "text": [
      "-12.0\n"
     ]
    }
   ],
   "source": [
    "matrix = np.array([[1,2,3], [1,3,2], [3,1,2]])\n",
    "print(linalg.det(matrix))"
   ]
  },
  {
   "cell_type": "code",
   "execution_count": 23,
   "id": "8d320e0f-7c5f-42e1-8094-2ec5a3d5289c",
   "metadata": {},
   "outputs": [
    {
     "name": "stdout",
     "output_type": "stream",
     "text": [
      "逆行列 [[-0.33333333  0.08333333  0.41666667]\n",
      " [-0.33333333  0.58333333 -0.08333333]\n",
      " [ 0.66666667 -0.41666667 -0.08333333]]\n",
      "固有値 [ 6.        +0.j -1.41421356+0.j  1.41421356+0.j]\n",
      "固有ベクトル [[-0.57735027 -0.72236645  0.16041816]\n",
      " [-0.57735027 -0.14290228 -0.81090869]\n",
      " [-0.57735027  0.67658381  0.56275492]]\n"
     ]
    }
   ],
   "source": [
    "inv = linalg.inv(matrix)\n",
    "eig_value, eig_vector = linalg.eig(matrix)\n",
    "print('逆行列', inv)\n",
    "print('固有値', eig_value)\n",
    "print('固有ベクトル', eig_vector)"
   ]
  },
  {
   "cell_type": "code",
   "execution_count": 26,
   "id": "814f70dc-3d00-4cba-b62a-24cb36322ab4",
   "metadata": {},
   "outputs": [],
   "source": [
    "def sample_function(x):\n",
    "    return (x**3 + 2*x + 1)"
   ]
  },
  {
   "cell_type": "code",
   "execution_count": 28,
   "id": "83c61a07-b857-4d13-8bbd-d794a833c911",
   "metadata": {},
   "outputs": [
    {
     "name": "stdout",
     "output_type": "stream",
     "text": [
      "-0.45339765151640365\n"
     ]
    }
   ],
   "source": [
    "print(newton(sample_function, 0))"
   ]
  },
  {
   "cell_type": "code",
   "execution_count": null,
   "id": "cd59f4ed-f57c-4f2d-a1c1-8363c7cc3d33",
   "metadata": {},
   "outputs": [],
   "source": []
  }
 ],
 "metadata": {
  "kernelspec": {
   "display_name": "Python 3 (ipykernel)",
   "language": "python",
   "name": "python3"
  },
  "language_info": {
   "codemirror_mode": {
    "name": "ipython",
    "version": 3
   },
   "file_extension": ".py",
   "mimetype": "text/x-python",
   "name": "python",
   "nbconvert_exporter": "python",
   "pygments_lexer": "ipython3",
   "version": "3.12.2"
  }
 },
 "nbformat": 4,
 "nbformat_minor": 5
}
