{
 "cells": [
  {
   "cell_type": "code",
   "execution_count": 1,
   "id": "73f70a0d-c40f-4e86-b878-b6b0ad5aa378",
   "metadata": {},
   "outputs": [],
   "source": [
    "import numpy as np"
   ]
  },
  {
   "cell_type": "code",
   "execution_count": 2,
   "id": "c2546d3f-9360-4eff-932b-221b3ca512d4",
   "metadata": {},
   "outputs": [
    {
     "data": {
      "text/plain": [
       "'%.3f'"
      ]
     },
     "execution_count": 2,
     "metadata": {},
     "output_type": "execute_result"
    }
   ],
   "source": [
    "%precision 3"
   ]
  },
  {
   "cell_type": "markdown",
   "id": "05d1acf9-e266-456a-b67e-ef038da41dc2",
   "metadata": {},
   "source": [
    "## 配列操作"
   ]
  },
  {
   "cell_type": "code",
   "execution_count": 23,
   "id": "cf34aa0b-ff9d-4274-945b-7c2e6af1871e",
   "metadata": {},
   "outputs": [],
   "source": [
    "data = np.array([9,2,3,4,10,6,7,8,1,5])"
   ]
  },
  {
   "cell_type": "code",
   "execution_count": 4,
   "id": "146069c1-ffba-45e7-b434-db73ad66b563",
   "metadata": {},
   "outputs": [
    {
     "data": {
      "text/plain": [
       "array([ 9,  2,  3,  4, 10,  6,  7,  8,  1,  5])"
      ]
     },
     "execution_count": 4,
     "metadata": {},
     "output_type": "execute_result"
    }
   ],
   "source": [
    "data"
   ]
  },
  {
   "cell_type": "code",
   "execution_count": 5,
   "id": "8b2a49c9-d19b-48e6-bfcc-82ac3a4efde3",
   "metadata": {},
   "outputs": [
    {
     "data": {
      "text/plain": [
       "dtype('int64')"
      ]
     },
     "execution_count": 5,
     "metadata": {},
     "output_type": "execute_result"
    }
   ],
   "source": [
    "data.dtype"
   ]
  },
  {
   "cell_type": "code",
   "execution_count": 6,
   "id": "1f06a71a-c016-4433-a35b-efae58eda844",
   "metadata": {},
   "outputs": [
    {
     "name": "stdout",
     "output_type": "stream",
     "text": [
      "次元数 1\n",
      "要素数 10\n"
     ]
    }
   ],
   "source": [
    "print('次元数', data.ndim)\n",
    "print('要素数', data.size)"
   ]
  },
  {
   "cell_type": "code",
   "execution_count": 24,
   "id": "533c9b9c-369e-4463-b2c8-51a8098b81ab",
   "metadata": {},
   "outputs": [
    {
     "data": {
      "text/plain": [
       "array([ 9,  2,  3,  4, 10,  6,  7,  8,  1,  5])"
      ]
     },
     "execution_count": 24,
     "metadata": {},
     "output_type": "execute_result"
    }
   ],
   "source": [
    "data"
   ]
  },
  {
   "cell_type": "markdown",
   "id": "d874641f-94dc-4310-b5c3-3814586aeac6",
   "metadata": {},
   "source": [
    "**sortは破壊的メソッド**"
   ]
  },
  {
   "cell_type": "code",
   "execution_count": 35,
   "id": "b72741a1-5dcf-4141-bdd3-5670db43820e",
   "metadata": {},
   "outputs": [],
   "source": [
    "data.sort()"
   ]
  },
  {
   "cell_type": "markdown",
   "id": "e61fac62-699f-492b-9428-fb8b4b95579f",
   "metadata": {},
   "source": [
    "**numpyにはcopyとviewの概念があり、スライスは新しいviewを作る**\n",
    "sort()メソッドをviewに適用すると、そのビューを通じて参照されている元の配列のデータが変更される。\n",
    "スライスによる逆順のビューでsort()を呼び出すと、元のデータが逆順で昇順にソートされるため、結果として元の配列が降順でソートされた状態になる。\n",
    "- copy\n",
    " - 元の配列と違うメモリを使用しているが要素が同一の意味を持つもの\n",
    "- view\n",
    " - 元の配列と同じメモリを参照しているもの\n",
    "\n",
    "https://deepage.net/features/numpy-copyview.html"
   ]
  },
  {
   "cell_type": "code",
   "execution_count": 27,
   "id": "a37fe0e7-8840-4eb2-9ae9-b64bce47627d",
   "metadata": {},
   "outputs": [
    {
     "data": {
      "text/plain": [
       "array([10,  9,  8,  7,  6,  5,  4,  3,  2,  1])"
      ]
     },
     "execution_count": 27,
     "metadata": {},
     "output_type": "execute_result"
    }
   ],
   "source": [
    "data[::-1]"
   ]
  },
  {
   "cell_type": "code",
   "execution_count": 33,
   "id": "0dd2fd10-4174-4dd5-af9f-6b905b85896f",
   "metadata": {},
   "outputs": [],
   "source": [
    "data[::-1].sort()"
   ]
  },
  {
   "cell_type": "code",
   "execution_count": 34,
   "id": "f6c82b17-6fcd-46ce-beac-2fe88e8de7e5",
   "metadata": {},
   "outputs": [
    {
     "data": {
      "text/plain": [
       "array([10,  9,  8,  7,  6,  5,  4,  3,  2,  1])"
      ]
     },
     "execution_count": 34,
     "metadata": {},
     "output_type": "execute_result"
    }
   ],
   "source": [
    "data"
   ]
  },
  {
   "cell_type": "markdown",
   "id": "e4abcf67-2353-49eb-adcf-17bccdf63ea7",
   "metadata": {},
   "source": [
    "## 乱数\n",
    "seedとは乱数を作るための基となるデータであり、特に指定しない場合はシステム時刻が採用される。\n",
    "そのため、同じ乱数が作られることはほとんどない。\n",
    "逆にseed値を指定すると同じ乱数が作られる"
   ]
  },
  {
   "cell_type": "code",
   "execution_count": 5,
   "id": "c4652e32-672a-4c87-ac08-dc67cbca8863",
   "metadata": {},
   "outputs": [
    {
     "name": "stdout",
     "output_type": "stream",
     "text": [
      "乱数10個の配列 [0.549 0.715 0.603 0.545 0.424 0.646 0.438 0.892 0.964 0.383]\n"
     ]
    }
   ],
   "source": [
    "import numpy.random as random \n",
    "random.seed(0)\n",
    "rnd_data = random.random(10)\n",
    "\n",
    "print(\"乱数10個の配列\", rnd_data)"
   ]
  },
  {
   "cell_type": "code",
   "execution_count": 46,
   "id": "8968cbd0-cd71-447e-b47d-befc5e5fb187",
   "metadata": {},
   "outputs": [
    {
     "name": "stdout",
     "output_type": "stream",
     "text": [
      "乱数10個の配列 [0.549 0.715 0.603 0.545 0.424 0.646 0.438 0.892 0.964 0.383]\n"
     ]
    }
   ],
   "source": [
    "random.seed(0)\n",
    "rnd_data = random.random(10)\n",
    "\n",
    "print(\"乱数10個の配列\", rnd_data)"
   ]
  },
  {
   "cell_type": "code",
   "execution_count": 4,
   "id": "848f9471-ac77-419c-a7b3-91e40259e84a",
   "metadata": {},
   "outputs": [],
   "source": [
    "data = np.array([1,2,3,4])"
   ]
  },
  {
   "cell_type": "markdown",
   "id": "97addf96-480e-4c39-b048-6421506a197e",
   "metadata": {},
   "source": [
    "**復元抽出 replace=True**\n",
    "  - ランダムで値を抽出する際に、重複を許可する\n",
    "\n",
    "**非復元抽出 replace=False**\n",
    "  - ランダムで値を抽出する際に、重複を許可する"
   ]
  },
  {
   "cell_type": "code",
   "execution_count": 10,
   "id": "16c4d8ff-4471-4065-943f-6684fbd1d6a1",
   "metadata": {},
   "outputs": [
    {
     "name": "stdout",
     "output_type": "stream",
     "text": [
      "復元抽出 [1 2 2 2]\n",
      "非復元抽出 [3 4 1 2]\n"
     ]
    }
   ],
   "source": [
    "print('復元抽出', random.choice(data,4))\n",
    "print('非復元抽出', random.choice(data,4, replace=False))"
   ]
  },
  {
   "cell_type": "markdown",
   "id": "a7e4fd05-3352-4ee7-a682-479bd67e93a1",
   "metadata": {},
   "source": [
    "## 行列"
   ]
  },
  {
   "cell_type": "code",
   "execution_count": 22,
   "id": "4c645d08-bd78-475b-be75-294512334a77",
   "metadata": {},
   "outputs": [
    {
     "name": "stdout",
     "output_type": "stream",
     "text": [
      "[[0 1 2]\n",
      " [3 4 5]\n",
      " [6 7 8]]\n"
     ]
    }
   ],
   "source": [
    "array1 = np.arange(9).reshape(3,3)\n",
    "print(array1)"
   ]
  },
  {
   "cell_type": "markdown",
   "id": "43df7816-db3d-479a-b61e-cb101ed50b69",
   "metadata": {},
   "source": [
    "**行列の各要素へのアクセス**"
   ]
  },
  {
   "cell_type": "code",
   "execution_count": 24,
   "id": "9e2a98e7-02a9-49a0-acf0-e2660505abe9",
   "metadata": {},
   "outputs": [
    {
     "name": "stdout",
     "output_type": "stream",
     "text": [
      "1行目全部 [0 1 2]\n",
      "1行目2列目 1\n",
      "3列目全部 [2 5 8]\n"
     ]
    }
   ],
   "source": [
    "# data[行,列]でアクセスする\n",
    "print('1行目全部', array1[0, :])\n",
    "print('1行目2列目', array1[0, 1])\n",
    "print('3列目全部', array1[:, 2])"
   ]
  },
  {
   "cell_type": "code",
   "execution_count": 26,
   "id": "5c00d030-f44d-4a3c-9bf5-d28e94917821",
   "metadata": {},
   "outputs": [
    {
     "name": "stdout",
     "output_type": "stream",
     "text": [
      "[[ 9 10 11]\n",
      " [12 13 14]\n",
      " [15 16 17]]\n"
     ]
    }
   ],
   "source": [
    "array2 = np.arange(9,18).reshape(3,3)\n",
    "print(array2)"
   ]
  },
  {
   "cell_type": "code",
   "execution_count": 30,
   "id": "f196214f-6ed0-43d0-9e6d-1d053724e667",
   "metadata": {},
   "outputs": [
    {
     "name": "stdout",
     "output_type": "stream",
     "text": [
      "[[ 42  45  48]\n",
      " [150 162 174]\n",
      " [258 279 300]]\n",
      "[[  0  10  22]\n",
      " [ 36  52  70]\n",
      " [ 90 112 136]]\n"
     ]
    }
   ],
   "source": [
    "# 行列の積の計算\n",
    "print(np.dot(array1, array2))\n",
    "\n",
    "# 要素の積の計算になってしまうため、注意\n",
    "print(array1 * array2)"
   ]
  },
  {
   "cell_type": "code",
   "execution_count": 37,
   "id": "af10c8fe-0293-4d8c-b630-afb168c94b68",
   "metadata": {},
   "outputs": [
    {
     "name": "stdout",
     "output_type": "stream",
     "text": [
      "[[0 0 0]\n",
      " [0 0 0]]\n",
      "[[1. 1. 1.]\n",
      " [1. 1. 1.]]\n"
     ]
    }
   ],
   "source": [
    "print(np.zeros((2, 3), dtype=np.int64))\n",
    "print(np.ones((2, 3)))"
   ]
  },
  {
   "cell_type": "markdown",
   "id": "f6dd7aa3-9b3c-494f-88de-974757eb88b2",
   "metadata": {},
   "source": [
    "## 練習問題"
   ]
  },
  {
   "cell_type": "code",
   "execution_count": 12,
   "id": "e0cf0a97-bd41-412b-9ef7-c62f4da391dc",
   "metadata": {},
   "outputs": [
    {
     "data": {
      "text/plain": [
       "1275"
      ]
     },
     "execution_count": 12,
     "metadata": {},
     "output_type": "execute_result"
    }
   ],
   "source": [
    "np.array([i for i in range(1, 51)]).sum()"
   ]
  },
  {
   "cell_type": "code",
   "execution_count": 14,
   "id": "3310d005-dccd-4e93-8e5d-6aa390e7871e",
   "metadata": {},
   "outputs": [
    {
     "name": "stdout",
     "output_type": "stream",
     "text": [
      "最大値 2.240893199201458\n",
      "最小値 -0.977277879876411\n",
      "最小値 7.380231707288347\n"
     ]
    }
   ],
   "source": [
    "import numpy.random as random \n",
    "random.seed(0)\n",
    "rnd_data = random.randn(10)\n",
    "\n",
    "print(\"最大値\", rnd_data.max())\n",
    "print(\"最小値\", rnd_data.min())\n",
    "print(\"最小値\", rnd_data.sum())"
   ]
  },
  {
   "cell_type": "code",
   "execution_count": 16,
   "id": "dc23fab2-b9b4-4f34-a0ea-2ff2389fa201",
   "metadata": {},
   "outputs": [
    {
     "data": {
      "text/plain": [
       "array([[45., 45., 45., 45., 45.],\n",
       "       [45., 45., 45., 45., 45.],\n",
       "       [45., 45., 45., 45., 45.],\n",
       "       [45., 45., 45., 45., 45.],\n",
       "       [45., 45., 45., 45., 45.]])"
      ]
     },
     "execution_count": 16,
     "metadata": {},
     "output_type": "execute_result"
    }
   ],
   "source": [
    "matrix = np.ones((5, 5)) * 3 \n",
    "matrix.dot(matrix)"
   ]
  },
  {
   "cell_type": "code",
   "execution_count": null,
   "id": "f507caca-8a0b-4c5c-a0f4-fcacbfdc7eab",
   "metadata": {},
   "outputs": [],
   "source": []
  }
 ],
 "metadata": {
  "kernelspec": {
   "display_name": "Python 3 (ipykernel)",
   "language": "python",
   "name": "python3"
  },
  "language_info": {
   "codemirror_mode": {
    "name": "ipython",
    "version": 3
   },
   "file_extension": ".py",
   "mimetype": "text/x-python",
   "name": "python",
   "nbconvert_exporter": "python",
   "pygments_lexer": "ipython3",
   "version": "3.12.2"
  }
 },
 "nbformat": 4,
 "nbformat_minor": 5
}
