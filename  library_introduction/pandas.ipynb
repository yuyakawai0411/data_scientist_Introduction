{
 "cells": [
  {
   "cell_type": "code",
   "execution_count": 35,
   "id": "99ab5b00-7b76-459f-a3b1-493a7021e56d",
   "metadata": {},
   "outputs": [],
   "source": [
    "import pandas as pd\n",
    "import numpy as np\n",
    "from pandas import Series, DataFrame"
   ]
  },
  {
   "cell_type": "code",
   "execution_count": 3,
   "id": "e0367f84-88ba-4734-a008-9bfc1d186eb4",
   "metadata": {},
   "outputs": [
    {
     "name": "stdout",
     "output_type": "stream",
     "text": [
      "0    10\n",
      "1    20\n",
      "2    30\n",
      "3    40\n",
      "4    50\n",
      "5    60\n",
      "6    70\n",
      "7    80\n",
      "dtype: int64\n",
      "値 [10 20 30 40 50 60 70 80]\n",
      "添え字 RangeIndex(start=0, stop=8, step=1)\n"
     ]
    }
   ],
   "source": [
    "series = Series([i * 10 for i in range(1, 9)])\n",
    "print(series)\n",
    "print('値', series.values)\n",
    "print('添え字', series.index)"
   ]
  },
  {
   "cell_type": "code",
   "execution_count": 4,
   "id": "30bf250a-c824-44d8-a232-9956c7546893",
   "metadata": {},
   "outputs": [
    {
     "name": "stdout",
     "output_type": "stream",
     "text": [
      "    ID     City  Birth_year     Name\n",
      "0  100    Tokyo        1990  Hiroshi\n",
      "1  101    Osaka        1970     Akio\n",
      "2  102    Kyoto        1980  Takashi\n",
      "3  103  Hokaido        1999     Yuki\n",
      "4  104    Tokyo        2010    Steve\n"
     ]
    }
   ],
   "source": [
    "data_frame = DataFrame(\n",
    "    {\n",
    "        'ID': ['100', '101', '102', '103', '104'],\n",
    "        'City': ['Tokyo', 'Osaka', 'Kyoto', 'Hokaido', 'Tokyo'],\n",
    "        'Birth_year': [1990, 1970, 1980, 1999, 2010],\n",
    "        'Name': ['Hiroshi', 'Akio', 'Takashi', 'Yuki', 'Steve']\n",
    "    }\n",
    ")\n",
    "print(data_frame)"
   ]
  },
  {
   "cell_type": "code",
   "execution_count": 5,
   "id": "e277d325-a3af-4319-b6a1-3e9f0d5c09d2",
   "metadata": {},
   "outputs": [
    {
     "data": {
      "text/html": [
       "<div>\n",
       "<style scoped>\n",
       "    .dataframe tbody tr th:only-of-type {\n",
       "        vertical-align: middle;\n",
       "    }\n",
       "\n",
       "    .dataframe tbody tr th {\n",
       "        vertical-align: top;\n",
       "    }\n",
       "\n",
       "    .dataframe thead th {\n",
       "        text-align: right;\n",
       "    }\n",
       "</style>\n",
       "<table border=\"1\" class=\"dataframe\">\n",
       "  <thead>\n",
       "    <tr style=\"text-align: right;\">\n",
       "      <th></th>\n",
       "      <th>0</th>\n",
       "      <th>1</th>\n",
       "      <th>2</th>\n",
       "      <th>3</th>\n",
       "      <th>4</th>\n",
       "    </tr>\n",
       "  </thead>\n",
       "  <tbody>\n",
       "    <tr>\n",
       "      <th>ID</th>\n",
       "      <td>100</td>\n",
       "      <td>101</td>\n",
       "      <td>102</td>\n",
       "      <td>103</td>\n",
       "      <td>104</td>\n",
       "    </tr>\n",
       "    <tr>\n",
       "      <th>City</th>\n",
       "      <td>Tokyo</td>\n",
       "      <td>Osaka</td>\n",
       "      <td>Kyoto</td>\n",
       "      <td>Hokaido</td>\n",
       "      <td>Tokyo</td>\n",
       "    </tr>\n",
       "    <tr>\n",
       "      <th>Birth_year</th>\n",
       "      <td>1990</td>\n",
       "      <td>1970</td>\n",
       "      <td>1980</td>\n",
       "      <td>1999</td>\n",
       "      <td>2010</td>\n",
       "    </tr>\n",
       "    <tr>\n",
       "      <th>Name</th>\n",
       "      <td>Hiroshi</td>\n",
       "      <td>Akio</td>\n",
       "      <td>Takashi</td>\n",
       "      <td>Yuki</td>\n",
       "      <td>Steve</td>\n",
       "    </tr>\n",
       "  </tbody>\n",
       "</table>\n",
       "</div>"
      ],
      "text/plain": [
       "                  0      1        2        3      4\n",
       "ID              100    101      102      103    104\n",
       "City          Tokyo  Osaka    Kyoto  Hokaido  Tokyo\n",
       "Birth_year     1990   1970     1980     1999   2010\n",
       "Name        Hiroshi   Akio  Takashi     Yuki  Steve"
      ]
     },
     "execution_count": 5,
     "metadata": {},
     "output_type": "execute_result"
    }
   ],
   "source": [
    "# 行と列の入れ替え\n",
    "data_frame.T"
   ]
  },
  {
   "cell_type": "code",
   "execution_count": 6,
   "id": "4e91db4d-eb59-4cf8-b206-5a2131343753",
   "metadata": {},
   "outputs": [
    {
     "data": {
      "text/plain": [
       "0    1990\n",
       "1    1970\n",
       "2    1980\n",
       "3    1999\n",
       "4    2010\n",
       "Name: Birth_year, dtype: int64"
      ]
     },
     "execution_count": 6,
     "metadata": {},
     "output_type": "execute_result"
    }
   ],
   "source": [
    "data_frame[\"Birth_year\"]"
   ]
  },
  {
   "cell_type": "code",
   "execution_count": 7,
   "id": "0b0488f5-baff-4b56-b39c-05c6fea960c5",
   "metadata": {},
   "outputs": [
    {
     "data": {
      "text/html": [
       "<div>\n",
       "<style scoped>\n",
       "    .dataframe tbody tr th:only-of-type {\n",
       "        vertical-align: middle;\n",
       "    }\n",
       "\n",
       "    .dataframe tbody tr th {\n",
       "        vertical-align: top;\n",
       "    }\n",
       "\n",
       "    .dataframe thead th {\n",
       "        text-align: right;\n",
       "    }\n",
       "</style>\n",
       "<table border=\"1\" class=\"dataframe\">\n",
       "  <thead>\n",
       "    <tr style=\"text-align: right;\">\n",
       "      <th></th>\n",
       "      <th>City</th>\n",
       "      <th>Birth_year</th>\n",
       "    </tr>\n",
       "  </thead>\n",
       "  <tbody>\n",
       "    <tr>\n",
       "      <th>0</th>\n",
       "      <td>Tokyo</td>\n",
       "      <td>1990</td>\n",
       "    </tr>\n",
       "    <tr>\n",
       "      <th>1</th>\n",
       "      <td>Osaka</td>\n",
       "      <td>1970</td>\n",
       "    </tr>\n",
       "    <tr>\n",
       "      <th>2</th>\n",
       "      <td>Kyoto</td>\n",
       "      <td>1980</td>\n",
       "    </tr>\n",
       "    <tr>\n",
       "      <th>3</th>\n",
       "      <td>Hokaido</td>\n",
       "      <td>1999</td>\n",
       "    </tr>\n",
       "    <tr>\n",
       "      <th>4</th>\n",
       "      <td>Tokyo</td>\n",
       "      <td>2010</td>\n",
       "    </tr>\n",
       "  </tbody>\n",
       "</table>\n",
       "</div>"
      ],
      "text/plain": [
       "      City  Birth_year\n",
       "0    Tokyo        1990\n",
       "1    Osaka        1970\n",
       "2    Kyoto        1980\n",
       "3  Hokaido        1999\n",
       "4    Tokyo        2010"
      ]
     },
     "execution_count": 7,
     "metadata": {},
     "output_type": "execute_result"
    }
   ],
   "source": [
    "data_frame[[\"City\",\"Birth_year\"]]"
   ]
  },
  {
   "cell_type": "code",
   "execution_count": 8,
   "id": "74076b6e-5269-4177-b9a5-86f62ab6b26f",
   "metadata": {},
   "outputs": [
    {
     "data": {
      "text/html": [
       "<div>\n",
       "<style scoped>\n",
       "    .dataframe tbody tr th:only-of-type {\n",
       "        vertical-align: middle;\n",
       "    }\n",
       "\n",
       "    .dataframe tbody tr th {\n",
       "        vertical-align: top;\n",
       "    }\n",
       "\n",
       "    .dataframe thead th {\n",
       "        text-align: right;\n",
       "    }\n",
       "</style>\n",
       "<table border=\"1\" class=\"dataframe\">\n",
       "  <thead>\n",
       "    <tr style=\"text-align: right;\">\n",
       "      <th></th>\n",
       "      <th>ID</th>\n",
       "      <th>City</th>\n",
       "      <th>Birth_year</th>\n",
       "      <th>Name</th>\n",
       "    </tr>\n",
       "  </thead>\n",
       "  <tbody>\n",
       "    <tr>\n",
       "      <th>0</th>\n",
       "      <td>100</td>\n",
       "      <td>Tokyo</td>\n",
       "      <td>1990</td>\n",
       "      <td>Hiroshi</td>\n",
       "    </tr>\n",
       "    <tr>\n",
       "      <th>4</th>\n",
       "      <td>104</td>\n",
       "      <td>Tokyo</td>\n",
       "      <td>2010</td>\n",
       "      <td>Steve</td>\n",
       "    </tr>\n",
       "  </tbody>\n",
       "</table>\n",
       "</div>"
      ],
      "text/plain": [
       "    ID   City  Birth_year     Name\n",
       "0  100  Tokyo        1990  Hiroshi\n",
       "4  104  Tokyo        2010    Steve"
      ]
     },
     "execution_count": 8,
     "metadata": {},
     "output_type": "execute_result"
    }
   ],
   "source": [
    "data_frame[data_frame[\"City\"] == \"Tokyo\"]"
   ]
  },
  {
   "cell_type": "code",
   "execution_count": 9,
   "id": "1f95987b-1e9c-4808-8ef2-bd965818e692",
   "metadata": {},
   "outputs": [
    {
     "data": {
      "text/html": [
       "<div>\n",
       "<style scoped>\n",
       "    .dataframe tbody tr th:only-of-type {\n",
       "        vertical-align: middle;\n",
       "    }\n",
       "\n",
       "    .dataframe tbody tr th {\n",
       "        vertical-align: top;\n",
       "    }\n",
       "\n",
       "    .dataframe thead th {\n",
       "        text-align: right;\n",
       "    }\n",
       "</style>\n",
       "<table border=\"1\" class=\"dataframe\">\n",
       "  <thead>\n",
       "    <tr style=\"text-align: right;\">\n",
       "      <th></th>\n",
       "      <th>ID</th>\n",
       "      <th>City</th>\n",
       "      <th>Birth_year</th>\n",
       "      <th>Name</th>\n",
       "    </tr>\n",
       "  </thead>\n",
       "  <tbody>\n",
       "    <tr>\n",
       "      <th>0</th>\n",
       "      <td>100</td>\n",
       "      <td>Tokyo</td>\n",
       "      <td>1990</td>\n",
       "      <td>Hiroshi</td>\n",
       "    </tr>\n",
       "    <tr>\n",
       "      <th>1</th>\n",
       "      <td>101</td>\n",
       "      <td>Osaka</td>\n",
       "      <td>1970</td>\n",
       "      <td>Akio</td>\n",
       "    </tr>\n",
       "    <tr>\n",
       "      <th>4</th>\n",
       "      <td>104</td>\n",
       "      <td>Tokyo</td>\n",
       "      <td>2010</td>\n",
       "      <td>Steve</td>\n",
       "    </tr>\n",
       "  </tbody>\n",
       "</table>\n",
       "</div>"
      ],
      "text/plain": [
       "    ID   City  Birth_year     Name\n",
       "0  100  Tokyo        1990  Hiroshi\n",
       "1  101  Osaka        1970     Akio\n",
       "4  104  Tokyo        2010    Steve"
      ]
     },
     "execution_count": 9,
     "metadata": {},
     "output_type": "execute_result"
    }
   ],
   "source": [
    "data_frame[data_frame[\"City\"].isin([\"Tokyo\", 'Osaka'])]"
   ]
  },
  {
   "cell_type": "code",
   "execution_count": 10,
   "id": "ed9c6c45-1336-481e-8770-b91da49e6266",
   "metadata": {},
   "outputs": [
    {
     "data": {
      "text/html": [
       "<div>\n",
       "<style scoped>\n",
       "    .dataframe tbody tr th:only-of-type {\n",
       "        vertical-align: middle;\n",
       "    }\n",
       "\n",
       "    .dataframe tbody tr th {\n",
       "        vertical-align: top;\n",
       "    }\n",
       "\n",
       "    .dataframe thead th {\n",
       "        text-align: right;\n",
       "    }\n",
       "</style>\n",
       "<table border=\"1\" class=\"dataframe\">\n",
       "  <thead>\n",
       "    <tr style=\"text-align: right;\">\n",
       "      <th></th>\n",
       "      <th>0</th>\n",
       "      <th>1</th>\n",
       "      <th>2</th>\n",
       "      <th>3</th>\n",
       "      <th>4</th>\n",
       "    </tr>\n",
       "  </thead>\n",
       "  <tbody>\n",
       "    <tr>\n",
       "      <th>ID</th>\n",
       "      <td>100</td>\n",
       "      <td>101</td>\n",
       "      <td>102</td>\n",
       "      <td>103</td>\n",
       "      <td>104</td>\n",
       "    </tr>\n",
       "    <tr>\n",
       "      <th>City</th>\n",
       "      <td>Tokyo</td>\n",
       "      <td>Osaka</td>\n",
       "      <td>Kyoto</td>\n",
       "      <td>Hokaido</td>\n",
       "      <td>Tokyo</td>\n",
       "    </tr>\n",
       "    <tr>\n",
       "      <th>Name</th>\n",
       "      <td>Hiroshi</td>\n",
       "      <td>Akio</td>\n",
       "      <td>Takashi</td>\n",
       "      <td>Yuki</td>\n",
       "      <td>Steve</td>\n",
       "    </tr>\n",
       "  </tbody>\n",
       "</table>\n",
       "</div>"
      ],
      "text/plain": [
       "            0      1        2        3      4\n",
       "ID        100    101      102      103    104\n",
       "City    Tokyo  Osaka    Kyoto  Hokaido  Tokyo\n",
       "Name  Hiroshi   Akio  Takashi     Yuki  Steve"
      ]
     },
     "execution_count": 10,
     "metadata": {},
     "output_type": "execute_result"
    }
   ],
   "source": [
    "# axis=1は列、axis=1は行\n",
    "data_frame.drop(['Birth_year'], axis=1)\n",
    "data_frame.T.drop(['Birth_year'], axis=0)"
   ]
  },
  {
   "cell_type": "code",
   "execution_count": 11,
   "id": "e46441eb-d65b-4b91-a96c-9953ca6e4681",
   "metadata": {},
   "outputs": [
    {
     "data": {
      "text/html": [
       "<div>\n",
       "<style scoped>\n",
       "    .dataframe tbody tr th:only-of-type {\n",
       "        vertical-align: middle;\n",
       "    }\n",
       "\n",
       "    .dataframe tbody tr th {\n",
       "        vertical-align: top;\n",
       "    }\n",
       "\n",
       "    .dataframe thead th {\n",
       "        text-align: right;\n",
       "    }\n",
       "</style>\n",
       "<table border=\"1\" class=\"dataframe\">\n",
       "  <thead>\n",
       "    <tr style=\"text-align: right;\">\n",
       "      <th></th>\n",
       "      <th>ID</th>\n",
       "      <th>City</th>\n",
       "      <th>Birth_year</th>\n",
       "      <th>Name</th>\n",
       "    </tr>\n",
       "  </thead>\n",
       "  <tbody>\n",
       "    <tr>\n",
       "      <th>0</th>\n",
       "      <td>100</td>\n",
       "      <td>Tokyo</td>\n",
       "      <td>1990</td>\n",
       "      <td>Hiroshi</td>\n",
       "    </tr>\n",
       "    <tr>\n",
       "      <th>1</th>\n",
       "      <td>101</td>\n",
       "      <td>Osaka</td>\n",
       "      <td>1970</td>\n",
       "      <td>Akio</td>\n",
       "    </tr>\n",
       "    <tr>\n",
       "      <th>2</th>\n",
       "      <td>102</td>\n",
       "      <td>Kyoto</td>\n",
       "      <td>1980</td>\n",
       "      <td>Takashi</td>\n",
       "    </tr>\n",
       "    <tr>\n",
       "      <th>3</th>\n",
       "      <td>103</td>\n",
       "      <td>Hokaido</td>\n",
       "      <td>1999</td>\n",
       "      <td>Yuki</td>\n",
       "    </tr>\n",
       "    <tr>\n",
       "      <th>4</th>\n",
       "      <td>104</td>\n",
       "      <td>Tokyo</td>\n",
       "      <td>2010</td>\n",
       "      <td>Steve</td>\n",
       "    </tr>\n",
       "  </tbody>\n",
       "</table>\n",
       "</div>"
      ],
      "text/plain": [
       "    ID     City  Birth_year     Name\n",
       "0  100    Tokyo        1990  Hiroshi\n",
       "1  101    Osaka        1970     Akio\n",
       "2  102    Kyoto        1980  Takashi\n",
       "3  103  Hokaido        1999     Yuki\n",
       "4  104    Tokyo        2010    Steve"
      ]
     },
     "execution_count": 11,
     "metadata": {},
     "output_type": "execute_result"
    }
   ],
   "source": [
    "data_frame"
   ]
  },
  {
   "cell_type": "code",
   "execution_count": 12,
   "id": "37d5e34f-fcf3-4197-8332-fdb1da486bfa",
   "metadata": {},
   "outputs": [
    {
     "data": {
      "text/html": [
       "<div>\n",
       "<style scoped>\n",
       "    .dataframe tbody tr th:only-of-type {\n",
       "        vertical-align: middle;\n",
       "    }\n",
       "\n",
       "    .dataframe tbody tr th {\n",
       "        vertical-align: top;\n",
       "    }\n",
       "\n",
       "    .dataframe thead th {\n",
       "        text-align: right;\n",
       "    }\n",
       "</style>\n",
       "<table border=\"1\" class=\"dataframe\">\n",
       "  <thead>\n",
       "    <tr style=\"text-align: right;\">\n",
       "      <th></th>\n",
       "      <th>ID</th>\n",
       "      <th>Math</th>\n",
       "      <th>English</th>\n",
       "      <th>Sex</th>\n",
       "    </tr>\n",
       "  </thead>\n",
       "  <tbody>\n",
       "    <tr>\n",
       "      <th>0</th>\n",
       "      <td>100</td>\n",
       "      <td>50</td>\n",
       "      <td>10</td>\n",
       "      <td>M</td>\n",
       "    </tr>\n",
       "    <tr>\n",
       "      <th>1</th>\n",
       "      <td>101</td>\n",
       "      <td>40</td>\n",
       "      <td>20</td>\n",
       "      <td>F</td>\n",
       "    </tr>\n",
       "    <tr>\n",
       "      <th>2</th>\n",
       "      <td>102</td>\n",
       "      <td>30</td>\n",
       "      <td>30</td>\n",
       "      <td>F</td>\n",
       "    </tr>\n",
       "    <tr>\n",
       "      <th>3</th>\n",
       "      <td>105</td>\n",
       "      <td>20</td>\n",
       "      <td>40</td>\n",
       "      <td>M</td>\n",
       "    </tr>\n",
       "    <tr>\n",
       "      <th>4</th>\n",
       "      <td>107</td>\n",
       "      <td>10</td>\n",
       "      <td>50</td>\n",
       "      <td>M</td>\n",
       "    </tr>\n",
       "  </tbody>\n",
       "</table>\n",
       "</div>"
      ],
      "text/plain": [
       "    ID  Math  English Sex\n",
       "0  100    50       10   M\n",
       "1  101    40       20   F\n",
       "2  102    30       30   F\n",
       "3  105    20       40   M\n",
       "4  107    10       50   M"
      ]
     },
     "execution_count": 12,
     "metadata": {},
     "output_type": "execute_result"
    }
   ],
   "source": [
    "data_frame2 = DataFrame(\n",
    "    {\n",
    "        'ID': ['100', '101', '102', '105', '107'],\n",
    "        'Math': [50, 40, 30, 20, 10],\n",
    "        'English': [10, 20, 30, 40, 50],\n",
    "        'Sex': ['M', 'F', 'F', 'M', 'M']\n",
    "    }\n",
    ")\n",
    "data_frame2"
   ]
  },
  {
   "cell_type": "code",
   "execution_count": 13,
   "id": "c18d5843-1cd8-463f-84b3-dd5919833b08",
   "metadata": {},
   "outputs": [
    {
     "data": {
      "text/html": [
       "<div>\n",
       "<style scoped>\n",
       "    .dataframe tbody tr th:only-of-type {\n",
       "        vertical-align: middle;\n",
       "    }\n",
       "\n",
       "    .dataframe tbody tr th {\n",
       "        vertical-align: top;\n",
       "    }\n",
       "\n",
       "    .dataframe thead th {\n",
       "        text-align: right;\n",
       "    }\n",
       "</style>\n",
       "<table border=\"1\" class=\"dataframe\">\n",
       "  <thead>\n",
       "    <tr style=\"text-align: right;\">\n",
       "      <th></th>\n",
       "      <th>ID</th>\n",
       "      <th>City</th>\n",
       "      <th>Birth_year</th>\n",
       "      <th>Name</th>\n",
       "      <th>Math</th>\n",
       "      <th>English</th>\n",
       "      <th>Sex</th>\n",
       "    </tr>\n",
       "  </thead>\n",
       "  <tbody>\n",
       "    <tr>\n",
       "      <th>0</th>\n",
       "      <td>100</td>\n",
       "      <td>Tokyo</td>\n",
       "      <td>1990</td>\n",
       "      <td>Hiroshi</td>\n",
       "      <td>50</td>\n",
       "      <td>10</td>\n",
       "      <td>M</td>\n",
       "    </tr>\n",
       "    <tr>\n",
       "      <th>1</th>\n",
       "      <td>101</td>\n",
       "      <td>Osaka</td>\n",
       "      <td>1970</td>\n",
       "      <td>Akio</td>\n",
       "      <td>40</td>\n",
       "      <td>20</td>\n",
       "      <td>F</td>\n",
       "    </tr>\n",
       "    <tr>\n",
       "      <th>2</th>\n",
       "      <td>102</td>\n",
       "      <td>Kyoto</td>\n",
       "      <td>1980</td>\n",
       "      <td>Takashi</td>\n",
       "      <td>30</td>\n",
       "      <td>30</td>\n",
       "      <td>F</td>\n",
       "    </tr>\n",
       "  </tbody>\n",
       "</table>\n",
       "</div>"
      ],
      "text/plain": [
       "    ID   City  Birth_year     Name  Math  English Sex\n",
       "0  100  Tokyo        1990  Hiroshi    50       10   M\n",
       "1  101  Osaka        1970     Akio    40       20   F\n",
       "2  102  Kyoto        1980  Takashi    30       30   F"
      ]
     },
     "execution_count": 13,
     "metadata": {},
     "output_type": "execute_result"
    }
   ],
   "source": [
    "pd.merge(data_frame, data_frame2)"
   ]
  },
  {
   "cell_type": "code",
   "execution_count": 17,
   "id": "53fd637e-9889-4bcd-82f9-088b9e039f45",
   "metadata": {},
   "outputs": [],
   "source": [
    "merged_data_frame = pd.merge(data_frame, data_frame2)"
   ]
  },
  {
   "cell_type": "code",
   "execution_count": 18,
   "id": "26f9c360-5a81-4fa8-9884-a981ed94549f",
   "metadata": {},
   "outputs": [
    {
     "data": {
      "text/plain": [
       "Sex\n",
       "F    35.0\n",
       "M    50.0\n",
       "Name: Math, dtype: float64"
      ]
     },
     "execution_count": 18,
     "metadata": {},
     "output_type": "execute_result"
    }
   ],
   "source": [
    "merged_data_frame.groupby('Sex')['Math'].mean()"
   ]
  },
  {
   "cell_type": "code",
   "execution_count": 20,
   "id": "18526c4e-f621-4a7e-afcb-111112fff6c3",
   "metadata": {},
   "outputs": [],
   "source": [
    "attribute = {\n",
    "    'ID': ['100', '101', '102', '103', '104'],\n",
    "    'City': ['Tokyo', 'Osaka', 'Kyoto', 'Hokaido', 'Tokyo'],\n",
    "    'Birth_year': [1990, 1970, 1980, 1999, 2010],\n",
    "    'Name': ['Hiroshi', 'Akio', 'Takashi', 'Yuki', 'Steve']\n",
    "}\n",
    "data_frame = DataFrame(attribute, index=['e', 'b', 'a', 'd', 'c'])"
   ]
  },
  {
   "cell_type": "code",
   "execution_count": 21,
   "id": "cbc2957f-78f7-4e19-a6a2-e123cd6f9706",
   "metadata": {},
   "outputs": [
    {
     "data": {
      "text/html": [
       "<div>\n",
       "<style scoped>\n",
       "    .dataframe tbody tr th:only-of-type {\n",
       "        vertical-align: middle;\n",
       "    }\n",
       "\n",
       "    .dataframe tbody tr th {\n",
       "        vertical-align: top;\n",
       "    }\n",
       "\n",
       "    .dataframe thead th {\n",
       "        text-align: right;\n",
       "    }\n",
       "</style>\n",
       "<table border=\"1\" class=\"dataframe\">\n",
       "  <thead>\n",
       "    <tr style=\"text-align: right;\">\n",
       "      <th></th>\n",
       "      <th>ID</th>\n",
       "      <th>City</th>\n",
       "      <th>Birth_year</th>\n",
       "      <th>Name</th>\n",
       "    </tr>\n",
       "  </thead>\n",
       "  <tbody>\n",
       "    <tr>\n",
       "      <th>e</th>\n",
       "      <td>100</td>\n",
       "      <td>Tokyo</td>\n",
       "      <td>1990</td>\n",
       "      <td>Hiroshi</td>\n",
       "    </tr>\n",
       "    <tr>\n",
       "      <th>b</th>\n",
       "      <td>101</td>\n",
       "      <td>Osaka</td>\n",
       "      <td>1970</td>\n",
       "      <td>Akio</td>\n",
       "    </tr>\n",
       "    <tr>\n",
       "      <th>a</th>\n",
       "      <td>102</td>\n",
       "      <td>Kyoto</td>\n",
       "      <td>1980</td>\n",
       "      <td>Takashi</td>\n",
       "    </tr>\n",
       "    <tr>\n",
       "      <th>d</th>\n",
       "      <td>103</td>\n",
       "      <td>Hokaido</td>\n",
       "      <td>1999</td>\n",
       "      <td>Yuki</td>\n",
       "    </tr>\n",
       "    <tr>\n",
       "      <th>c</th>\n",
       "      <td>104</td>\n",
       "      <td>Tokyo</td>\n",
       "      <td>2010</td>\n",
       "      <td>Steve</td>\n",
       "    </tr>\n",
       "  </tbody>\n",
       "</table>\n",
       "</div>"
      ],
      "text/plain": [
       "    ID     City  Birth_year     Name\n",
       "e  100    Tokyo        1990  Hiroshi\n",
       "b  101    Osaka        1970     Akio\n",
       "a  102    Kyoto        1980  Takashi\n",
       "d  103  Hokaido        1999     Yuki\n",
       "c  104    Tokyo        2010    Steve"
      ]
     },
     "execution_count": 21,
     "metadata": {},
     "output_type": "execute_result"
    }
   ],
   "source": [
    "data_frame"
   ]
  },
  {
   "cell_type": "code",
   "execution_count": 22,
   "id": "bd4e4875-1b63-4031-afff-529f9b60b63a",
   "metadata": {},
   "outputs": [
    {
     "data": {
      "text/html": [
       "<div>\n",
       "<style scoped>\n",
       "    .dataframe tbody tr th:only-of-type {\n",
       "        vertical-align: middle;\n",
       "    }\n",
       "\n",
       "    .dataframe tbody tr th {\n",
       "        vertical-align: top;\n",
       "    }\n",
       "\n",
       "    .dataframe thead th {\n",
       "        text-align: right;\n",
       "    }\n",
       "</style>\n",
       "<table border=\"1\" class=\"dataframe\">\n",
       "  <thead>\n",
       "    <tr style=\"text-align: right;\">\n",
       "      <th></th>\n",
       "      <th>ID</th>\n",
       "      <th>City</th>\n",
       "      <th>Birth_year</th>\n",
       "      <th>Name</th>\n",
       "    </tr>\n",
       "  </thead>\n",
       "  <tbody>\n",
       "    <tr>\n",
       "      <th>a</th>\n",
       "      <td>102</td>\n",
       "      <td>Kyoto</td>\n",
       "      <td>1980</td>\n",
       "      <td>Takashi</td>\n",
       "    </tr>\n",
       "    <tr>\n",
       "      <th>b</th>\n",
       "      <td>101</td>\n",
       "      <td>Osaka</td>\n",
       "      <td>1970</td>\n",
       "      <td>Akio</td>\n",
       "    </tr>\n",
       "    <tr>\n",
       "      <th>c</th>\n",
       "      <td>104</td>\n",
       "      <td>Tokyo</td>\n",
       "      <td>2010</td>\n",
       "      <td>Steve</td>\n",
       "    </tr>\n",
       "    <tr>\n",
       "      <th>d</th>\n",
       "      <td>103</td>\n",
       "      <td>Hokaido</td>\n",
       "      <td>1999</td>\n",
       "      <td>Yuki</td>\n",
       "    </tr>\n",
       "    <tr>\n",
       "      <th>e</th>\n",
       "      <td>100</td>\n",
       "      <td>Tokyo</td>\n",
       "      <td>1990</td>\n",
       "      <td>Hiroshi</td>\n",
       "    </tr>\n",
       "  </tbody>\n",
       "</table>\n",
       "</div>"
      ],
      "text/plain": [
       "    ID     City  Birth_year     Name\n",
       "a  102    Kyoto        1980  Takashi\n",
       "b  101    Osaka        1970     Akio\n",
       "c  104    Tokyo        2010    Steve\n",
       "d  103  Hokaido        1999     Yuki\n",
       "e  100    Tokyo        1990  Hiroshi"
      ]
     },
     "execution_count": 22,
     "metadata": {},
     "output_type": "execute_result"
    }
   ],
   "source": [
    "data_frame.sort_index()"
   ]
  },
  {
   "cell_type": "code",
   "execution_count": 23,
   "id": "c475829f-2025-45f1-ae12-1bb6dea47c9d",
   "metadata": {},
   "outputs": [
    {
     "data": {
      "text/plain": [
       "b    1970\n",
       "a    1980\n",
       "e    1990\n",
       "d    1999\n",
       "c    2010\n",
       "Name: Birth_year, dtype: int64"
      ]
     },
     "execution_count": 23,
     "metadata": {},
     "output_type": "execute_result"
    }
   ],
   "source": [
    "data_frame['Birth_year'].sort_values()"
   ]
  },
  {
   "cell_type": "code",
   "execution_count": 37,
   "id": "53d423bc-e760-4cb4-9895-fbcf60ea1422",
   "metadata": {},
   "outputs": [
    {
     "data": {
      "text/plain": [
       "ID            0\n",
       "City          0\n",
       "Birth_year    0\n",
       "Name          5\n",
       "dtype: int64"
      ]
     },
     "execution_count": 37,
     "metadata": {},
     "output_type": "execute_result"
    }
   ],
   "source": [
    "data_frame['Name'] = np.nan\n",
    "data_frame.isnull().sum()"
   ]
  },
  {
   "cell_type": "markdown",
   "id": "e5b2cb81-497a-4b77-88bb-32bf277470af",
   "metadata": {},
   "source": [
    "## 練習問題"
   ]
  },
  {
   "cell_type": "code",
   "execution_count": 40,
   "id": "6ab09963-d80d-4ade-b49b-e5133e0b6991",
   "metadata": {},
   "outputs": [],
   "source": [
    "attribute = {\n",
    "    'ID': [str(i) for i in range(1, 6)],\n",
    "    'Sex': ['F', 'F', 'M', 'M', 'F'],\n",
    "    'Money': [1000, 2000, 500, 300, 700],\n",
    "    'Name': ['Saito', 'Horie', 'Kondo', 'Kawada', 'Matusbara']\n",
    "}\n",
    "data_frame = DataFrame(attribute)"
   ]
  },
  {
   "cell_type": "code",
   "execution_count": 41,
   "id": "5f68ee71-fb6a-4988-8e6a-cf70fb76e7b7",
   "metadata": {},
   "outputs": [
    {
     "data": {
      "text/html": [
       "<div>\n",
       "<style scoped>\n",
       "    .dataframe tbody tr th:only-of-type {\n",
       "        vertical-align: middle;\n",
       "    }\n",
       "\n",
       "    .dataframe tbody tr th {\n",
       "        vertical-align: top;\n",
       "    }\n",
       "\n",
       "    .dataframe thead th {\n",
       "        text-align: right;\n",
       "    }\n",
       "</style>\n",
       "<table border=\"1\" class=\"dataframe\">\n",
       "  <thead>\n",
       "    <tr style=\"text-align: right;\">\n",
       "      <th></th>\n",
       "      <th>ID</th>\n",
       "      <th>Sex</th>\n",
       "      <th>Money</th>\n",
       "      <th>Name</th>\n",
       "    </tr>\n",
       "  </thead>\n",
       "  <tbody>\n",
       "    <tr>\n",
       "      <th>0</th>\n",
       "      <td>1</td>\n",
       "      <td>F</td>\n",
       "      <td>1000</td>\n",
       "      <td>Saito</td>\n",
       "    </tr>\n",
       "    <tr>\n",
       "      <th>1</th>\n",
       "      <td>2</td>\n",
       "      <td>F</td>\n",
       "      <td>2000</td>\n",
       "      <td>Horie</td>\n",
       "    </tr>\n",
       "    <tr>\n",
       "      <th>2</th>\n",
       "      <td>3</td>\n",
       "      <td>M</td>\n",
       "      <td>500</td>\n",
       "      <td>Kondo</td>\n",
       "    </tr>\n",
       "    <tr>\n",
       "      <th>4</th>\n",
       "      <td>5</td>\n",
       "      <td>F</td>\n",
       "      <td>700</td>\n",
       "      <td>Matusbara</td>\n",
       "    </tr>\n",
       "  </tbody>\n",
       "</table>\n",
       "</div>"
      ],
      "text/plain": [
       "  ID Sex  Money       Name\n",
       "0  1   F   1000      Saito\n",
       "1  2   F   2000      Horie\n",
       "2  3   M    500      Kondo\n",
       "4  5   F    700  Matusbara"
      ]
     },
     "execution_count": 41,
     "metadata": {},
     "output_type": "execute_result"
    }
   ],
   "source": [
    "data_frame[data_frame['Money'] >= 500]"
   ]
  },
  {
   "cell_type": "code",
   "execution_count": 48,
   "id": "f14d9bfe-b206-48a7-b46b-6f7180ebaa7e",
   "metadata": {},
   "outputs": [
    {
     "data": {
      "text/plain": [
       "Sex\n",
       "F    1233.333333\n",
       "M     500.000000\n",
       "Name: Money, dtype: float64"
      ]
     },
     "execution_count": 48,
     "metadata": {},
     "output_type": "execute_result"
    }
   ],
   "source": [
    "data_frame[data_frame['Money'] >= 500].groupby('Sex')['Money'].mean()"
   ]
  },
  {
   "cell_type": "code",
   "execution_count": 49,
   "id": "0f66a0a1-1640-4fc8-9d60-4bec375e230f",
   "metadata": {},
   "outputs": [],
   "source": [
    "attribute2={\n",
    "    'ID': ['3', '4', '7'],\n",
    "    'Math': [60,30,40],\n",
    "    'English': [80,20,30]\n",
    "}\n",
    "data_frame2 = DataFrame(attribute2)"
   ]
  },
  {
   "cell_type": "code",
   "execution_count": 58,
   "id": "e147888c-1710-405c-9a16-dbe1de8382d6",
   "metadata": {},
   "outputs": [
    {
     "name": "stdout",
     "output_type": "stream",
     "text": [
      "Moneyの平均 400.0\n",
      "Mathの平均 45.0\n",
      "Englishの平均 50.0\n"
     ]
    }
   ],
   "source": [
    "merged_data_frame = data_frame.merge(data_frame2)\n",
    "print('Moneyの平均', merged_data_frame['Money'].mean())\n",
    "print('Mathの平均', merged_data_frame['Math'].mean())\n",
    "print('Englishの平均', merged_data_frame['English'].mean())"
   ]
  }
 ],
 "metadata": {
  "kernelspec": {
   "display_name": "Python 3 (ipykernel)",
   "language": "python",
   "name": "python3"
  },
  "language_info": {
   "codemirror_mode": {
    "name": "ipython",
    "version": 3
   },
   "file_extension": ".py",
   "mimetype": "text/x-python",
   "name": "python",
   "nbconvert_exporter": "python",
   "pygments_lexer": "ipython3",
   "version": "3.12.2"
  }
 },
 "nbformat": 4,
 "nbformat_minor": 5
}
